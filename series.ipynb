{
 "cells": [
  {
   "cell_type": "code",
   "execution_count": 1,
   "metadata": {},
   "outputs": [],
   "source": [
    "import pandas as pd"
   ]
  },
  {
   "cell_type": "markdown",
   "metadata": {},
   "source": [
    "# Working with Series"
   ]
  },
  {
   "cell_type": "code",
   "execution_count": 2,
   "metadata": {},
   "outputs": [
    {
     "data": {
      "text/plain": [
       "0     2\n",
       "1    67\n",
       "2    43\n",
       "dtype: int64"
      ]
     },
     "execution_count": 2,
     "metadata": {},
     "output_type": "execute_result"
    }
   ],
   "source": [
    "lst = [2, 67,43]\n",
    "pd.Series(lst)"
   ]
  },
  {
   "cell_type": "code",
   "execution_count": 3,
   "metadata": {},
   "outputs": [],
   "source": [
    "lst_bool = [True, False, True, True]"
   ]
  },
  {
   "cell_type": "code",
   "execution_count": 6,
   "metadata": {},
   "outputs": [],
   "source": [
    "# This is not advised as its good to keep data types homogenous\n",
    "lst_mixed = [\"Stringy\", True, 23,67 ,22.0]"
   ]
  },
  {
   "cell_type": "code",
   "execution_count": 5,
   "metadata": {},
   "outputs": [
    {
     "data": {
      "text/plain": [
       "['Stringy', True, 23, 67, 22.0]"
      ]
     },
     "execution_count": 5,
     "metadata": {},
     "output_type": "execute_result"
    }
   ],
   "source": [
    "lst_mixed"
   ]
  },
  {
   "cell_type": "code",
   "execution_count": 10,
   "metadata": {},
   "outputs": [
    {
     "data": {
      "text/plain": [
       "A    5\n",
       "B    5\n",
       "C    5\n",
       "D    5\n",
       "dtype: int64"
      ]
     },
     "execution_count": 10,
     "metadata": {},
     "output_type": "execute_result"
    }
   ],
   "source": [
    "# set an index in a series\n",
    "pd.Series(5,index=[\"A\",\"B\",\"C\", \"D\"])"
   ]
  },
  {
   "cell_type": "code",
   "execution_count": 9,
   "metadata": {},
   "outputs": [
    {
     "data": {
      "text/plain": [
       "0     0\n",
       "1    10\n",
       "2    20\n",
       "3    30\n",
       "4    40\n",
       "5    50\n",
       "6    60\n",
       "7    70\n",
       "8    80\n",
       "9    90\n",
       "dtype: int64"
      ]
     },
     "execution_count": 9,
     "metadata": {},
     "output_type": "execute_result"
    }
   ],
   "source": [
    "# create a series from a list comprehension\n",
    "pd.Series([num*10 for num in range(10)])"
   ]
  },
  {
   "cell_type": "code",
   "execution_count": 11,
   "metadata": {},
   "outputs": [],
   "source": [
    "my_phonebook = {'michael':'555-555-5552',\n",
    "               'shawn':'555-555-5532',\n",
    "               'larry':'555-555-4433'}"
   ]
  },
  {
   "cell_type": "code",
   "execution_count": 12,
   "metadata": {},
   "outputs": [
    {
     "data": {
      "text/plain": [
       "michael    555-555-5552\n",
       "shawn      555-555-5532\n",
       "larry      555-555-4433\n",
       "dtype: object"
      ]
     },
     "execution_count": 12,
     "metadata": {},
     "output_type": "execute_result"
    }
   ],
   "source": [
    "# create a series from a dictionary\n",
    "pd.Series(my_phonebook)"
   ]
  },
  {
   "cell_type": "code",
   "execution_count": 22,
   "metadata": {},
   "outputs": [],
   "source": [
    "# create a series from a csv file using squeeze and column specification\n",
    "stock = pd.read_csv('./data/Stock.csv', squeeze=True, usecols=['Open'])"
   ]
  },
  {
   "cell_type": "code",
   "execution_count": 21,
   "metadata": {},
   "outputs": [
    {
     "data": {
      "text/plain": [
       "0     16.770000\n",
       "1     17.100000\n",
       "2     17.059999\n",
       "3     16.900000\n",
       "4     16.969999\n",
       "5     16.240000\n",
       "6     16.389999\n",
       "7     16.549999\n",
       "8     15.990000\n",
       "9     15.770000\n",
       "10    16.389999\n",
       "11    16.330000\n",
       "12    16.340000\n",
       "13    16.240000\n",
       "14    16.469999\n",
       "15    16.790001\n",
       "16    17.100000\n",
       "17    17.299999\n",
       "18    16.299999\n",
       "19    16.459999\n",
       "Name: Open, dtype: float64"
      ]
     },
     "execution_count": 21,
     "metadata": {},
     "output_type": "execute_result"
    }
   ],
   "source": [
    "stock"
   ]
  },
  {
   "cell_type": "code",
   "execution_count": 24,
   "metadata": {},
   "outputs": [
    {
     "data": {
      "text/plain": [
       "RangeIndex(start=0, stop=20, step=1)"
      ]
     },
     "execution_count": 24,
     "metadata": {},
     "output_type": "execute_result"
    }
   ],
   "source": [
    "# understand the indexing of a series\n",
    "stock.index"
   ]
  },
  {
   "cell_type": "code",
   "execution_count": 25,
   "metadata": {},
   "outputs": [
    {
     "data": {
      "text/plain": [
       "array([16.77    , 17.1     , 17.059999, 16.9     , 16.969999, 16.24    ,\n",
       "       16.389999, 16.549999, 15.99    , 15.77    , 16.389999, 16.33    ,\n",
       "       16.34    , 16.24    , 16.469999, 16.790001, 17.1     , 17.299999,\n",
       "       16.299999, 16.459999])"
      ]
     },
     "execution_count": 25,
     "metadata": {},
     "output_type": "execute_result"
    }
   ],
   "source": [
    "# return an array of series values\n",
    "stock.values"
   ]
  },
  {
   "cell_type": "code",
   "execution_count": 26,
   "metadata": {},
   "outputs": [
    {
     "data": {
      "text/plain": [
       "dtype('float64')"
      ]
     },
     "execution_count": 26,
     "metadata": {},
     "output_type": "execute_result"
    }
   ],
   "source": [
    "# review the data types of a series\n",
    "stock.dtype"
   ]
  },
  {
   "cell_type": "code",
   "execution_count": 27,
   "metadata": {},
   "outputs": [
    {
     "data": {
      "text/plain": [
       "1"
      ]
     },
     "execution_count": 27,
     "metadata": {},
     "output_type": "execute_result"
    }
   ],
   "source": [
    "# return the dimensions of a series, should be 1\n",
    "stock.ndim"
   ]
  },
  {
   "cell_type": "code",
   "execution_count": 33,
   "metadata": {},
   "outputs": [
    {
     "data": {
      "text/plain": [
       "max    17.299999\n",
       "min    15.770000\n",
       "Name: Open, dtype: float64"
      ]
     },
     "execution_count": 33,
     "metadata": {},
     "output_type": "execute_result"
    }
   ],
   "source": [
    "# use an aggregate function on a series\n",
    "stock.aggregate(['max','min'])"
   ]
  },
  {
   "cell_type": "code",
   "execution_count": 34,
   "metadata": {},
   "outputs": [
    {
     "data": {
      "text/plain": [
       "17.299999"
      ]
     },
     "execution_count": 34,
     "metadata": {},
     "output_type": "execute_result"
    }
   ],
   "source": [
    "# pass a series to a function\n",
    "max(stock)"
   ]
  },
  {
   "cell_type": "code",
   "execution_count": 35,
   "metadata": {},
   "outputs": [
    {
     "data": {
      "text/plain": [
       "0    16.770000\n",
       "1    17.100000\n",
       "2    17.059999\n",
       "3    16.900000\n",
       "4    16.969999\n",
       "Name: Open, dtype: float64"
      ]
     },
     "execution_count": 35,
     "metadata": {},
     "output_type": "execute_result"
    }
   ],
   "source": [
    "# return the first five value\n",
    "stock.head()"
   ]
  },
  {
   "cell_type": "code",
   "execution_count": 37,
   "metadata": {},
   "outputs": [],
   "source": [
    "# I can call statistical functions on a series\n",
    "mean_price = stock.mean()\n",
    "\n",
    "std_price = stock.std()"
   ]
  },
  {
   "cell_type": "code",
   "execution_count": 38,
   "metadata": {},
   "outputs": [
    {
     "data": {
      "text/plain": [
       "0.4076130110008758"
      ]
     },
     "execution_count": 38,
     "metadata": {},
     "output_type": "execute_result"
    }
   ],
   "source": [
    "std_price"
   ]
  },
  {
   "cell_type": "code",
   "execution_count": 40,
   "metadata": {},
   "outputs": [
    {
     "data": {
      "text/plain": [
       "(20,)"
      ]
     },
     "execution_count": 40,
     "metadata": {},
     "output_type": "execute_result"
    }
   ],
   "source": [
    "# determine the shape of a series\n",
    "stock.shape"
   ]
  },
  {
   "cell_type": "code",
   "execution_count": 41,
   "metadata": {},
   "outputs": [
    {
     "data": {
      "text/plain": [
       "<bound method Series.idxmax of 0     16.770000\n",
       "1     17.100000\n",
       "2     17.059999\n",
       "3     16.900000\n",
       "4     16.969999\n",
       "5     16.240000\n",
       "6     16.389999\n",
       "7     16.549999\n",
       "8     15.990000\n",
       "9     15.770000\n",
       "10    16.389999\n",
       "11    16.330000\n",
       "12    16.340000\n",
       "13    16.240000\n",
       "14    16.469999\n",
       "15    16.790001\n",
       "16    17.100000\n",
       "17    17.299999\n",
       "18    16.299999\n",
       "19    16.459999\n",
       "Name: Open, dtype: float64>"
      ]
     },
     "execution_count": 41,
     "metadata": {},
     "output_type": "execute_result"
    }
   ],
   "source": [
    "stock.idxmax"
   ]
  },
  {
   "cell_type": "code",
   "execution_count": 44,
   "metadata": {},
   "outputs": [],
   "source": [
    "# I can create label indexes from lists\n",
    "avg_temps = [33,23,45,64,78,89,94,101,88,77,65,55,32]\n",
    "months = [\"Jsn\", \"Feb\", \"Mar\", \"Apr\",\"May\",\"Jun\",\"Jul\",\"Aug\",\"Sep\",\"Oct\",\"Nov\",\"Dec\"]"
   ]
  },
  {
   "cell_type": "code",
   "execution_count": 51,
   "metadata": {},
   "outputs": [
    {
     "data": {
      "text/plain": [
       "Jsn     33.23\n",
       "Feb     45.00\n",
       "Mar     64.00\n",
       "Apr     78.00\n",
       "May     89.00\n",
       "Jun     94.00\n",
       "Jul    101.00\n",
       "Aug     88.00\n",
       "Sep     77.00\n",
       "Oct     65.00\n",
       "Nov     55.00\n",
       "Dec     32.00\n",
       "dtype: float64"
      ]
     },
     "execution_count": 51,
     "metadata": {},
     "output_type": "execute_result"
    }
   ],
   "source": [
    "# create a series from a lists of data and custom indexes \n",
    "pd.Series(avg_temps, index=months)"
   ]
  },
  {
   "cell_type": "code",
   "execution_count": 53,
   "metadata": {},
   "outputs": [],
   "source": [
    "yearly_weather = pd.Series(data=avg_temps, index=months)"
   ]
  },
  {
   "cell_type": "code",
   "execution_count": 54,
   "metadata": {},
   "outputs": [
    {
     "data": {
      "text/plain": [
       "<bound method Series.median of Jsn     33.23\n",
       "Feb     45.00\n",
       "Mar     64.00\n",
       "Apr     78.00\n",
       "May     89.00\n",
       "Jun     94.00\n",
       "Jul    101.00\n",
       "Aug     88.00\n",
       "Sep     77.00\n",
       "Oct     65.00\n",
       "Nov     55.00\n",
       "Dec     32.00\n",
       "dtype: float64>"
      ]
     },
     "execution_count": 54,
     "metadata": {},
     "output_type": "execute_result"
    }
   ],
   "source": [
    "yearly_weather.median"
   ]
  },
  {
   "cell_type": "code",
   "execution_count": 55,
   "metadata": {},
   "outputs": [
    {
     "data": {
      "text/plain": [
       "Dec     32.00\n",
       "Jsn     33.23\n",
       "Feb     45.00\n",
       "Nov     55.00\n",
       "Mar     64.00\n",
       "Oct     65.00\n",
       "Sep     77.00\n",
       "Apr     78.00\n",
       "Aug     88.00\n",
       "May     89.00\n",
       "Jun     94.00\n",
       "Jul    101.00\n",
       "dtype: float64"
      ]
     },
     "execution_count": 55,
     "metadata": {},
     "output_type": "execute_result"
    }
   ],
   "source": [
    "# sort series values in descending order\n",
    "yearly_weather.sort_values()"
   ]
  },
  {
   "cell_type": "code",
   "execution_count": 59,
   "metadata": {},
   "outputs": [
    {
     "data": {
      "text/plain": [
       "Jul    101.00\n",
       "Jun     94.00\n",
       "May     89.00\n",
       "Aug     88.00\n",
       "Apr     78.00\n",
       "Sep     77.00\n",
       "Oct     65.00\n",
       "Mar     64.00\n",
       "Nov     55.00\n",
       "Feb     45.00\n",
       "Jsn     33.23\n",
       "Dec     32.00\n",
       "dtype: float64"
      ]
     },
     "execution_count": 59,
     "metadata": {},
     "output_type": "execute_result"
    }
   ],
   "source": [
    "# sort series values in ascending order, does not mutate underlying data\n",
    "yearly_weather.sort_values(ascending=False)"
   ]
  },
  {
   "cell_type": "code",
   "execution_count": 60,
   "metadata": {},
   "outputs": [
    {
     "data": {
      "text/plain": [
       "Apr     78.00\n",
       "Aug     88.00\n",
       "Dec     32.00\n",
       "Feb     45.00\n",
       "Jsn     33.23\n",
       "Jul    101.00\n",
       "Jun     94.00\n",
       "Mar     64.00\n",
       "May     89.00\n",
       "Nov     55.00\n",
       "Oct     65.00\n",
       "Sep     77.00\n",
       "dtype: float64"
      ]
     },
     "execution_count": 60,
     "metadata": {},
     "output_type": "execute_result"
    }
   ],
   "source": [
    "# sort the series by the index values\n",
    "yearly_weather.sort_index()"
   ]
  },
  {
   "cell_type": "code",
   "execution_count": 61,
   "metadata": {},
   "outputs": [
    {
     "data": {
      "text/plain": [
       "pandas.core.series.Series"
      ]
     },
     "execution_count": 61,
     "metadata": {},
     "output_type": "execute_result"
    }
   ],
   "source": [
    "# use built in python types with series\n",
    "len(yearly_weather)\n",
    "type(yearly_weather)"
   ]
  },
  {
   "cell_type": "code",
   "execution_count": 62,
   "metadata": {},
   "outputs": [
    {
     "data": {
      "text/plain": [
       "[33.23, 45.0, 64.0, 78.0, 89.0, 94.0, 101.0, 88.0, 77.0, 65.0, 55.0, 32.0]"
      ]
     },
     "execution_count": 62,
     "metadata": {},
     "output_type": "execute_result"
    }
   ],
   "source": [
    "list(yearly_weather)"
   ]
  },
  {
   "cell_type": "code",
   "execution_count": 63,
   "metadata": {},
   "outputs": [
    {
     "data": {
      "text/plain": [
       "{'Jsn': 33.23,\n",
       " 'Feb': 45.0,\n",
       " 'Mar': 64.0,\n",
       " 'Apr': 78.0,\n",
       " 'May': 89.0,\n",
       " 'Jun': 94.0,\n",
       " 'Jul': 101.0,\n",
       " 'Aug': 88.0,\n",
       " 'Sep': 77.0,\n",
       " 'Oct': 65.0,\n",
       " 'Nov': 55.0,\n",
       " 'Dec': 32.0}"
      ]
     },
     "execution_count": 63,
     "metadata": {},
     "output_type": "execute_result"
    }
   ],
   "source": [
    "dict(yearly_weather)"
   ]
  },
  {
   "cell_type": "code",
   "execution_count": 64,
   "metadata": {},
   "outputs": [
    {
     "data": {
      "text/plain": [
       "[32.0, 33.23, 45.0, 55.0, 64.0, 65.0, 77.0, 78.0, 88.0, 89.0, 94.0, 101.0]"
      ]
     },
     "execution_count": 64,
     "metadata": {},
     "output_type": "execute_result"
    }
   ],
   "source": [
    "sorted(yearly_weather)"
   ]
  },
  {
   "cell_type": "code",
   "execution_count": 65,
   "metadata": {},
   "outputs": [
    {
     "data": {
      "text/plain": [
       "101.0"
      ]
     },
     "execution_count": 65,
     "metadata": {},
     "output_type": "execute_result"
    }
   ],
   "source": [
    "max(yearly_weather)"
   ]
  },
  {
   "cell_type": "code",
   "execution_count": 66,
   "metadata": {},
   "outputs": [
    {
     "data": {
      "text/plain": [
       "32.0"
      ]
     },
     "execution_count": 66,
     "metadata": {},
     "output_type": "execute_result"
    }
   ],
   "source": [
    "min(yearly_weather)"
   ]
  },
  {
   "cell_type": "code",
   "execution_count": 68,
   "metadata": {},
   "outputs": [
    {
     "data": {
      "text/plain": [
       "33.23"
      ]
     },
     "execution_count": 68,
     "metadata": {},
     "output_type": "execute_result"
    }
   ],
   "source": [
    "# extract values from series as I extract by slicing from a list\n",
    "yearly_weather[0]"
   ]
  },
  {
   "cell_type": "code",
   "execution_count": 71,
   "metadata": {},
   "outputs": [],
   "source": [
    "spring_temp_mean = yearly_weather[2:6].mean()"
   ]
  },
  {
   "cell_type": "code",
   "execution_count": 72,
   "metadata": {},
   "outputs": [
    {
     "data": {
      "text/plain": [
       "81.25"
      ]
     },
     "execution_count": 72,
     "metadata": {},
     "output_type": "execute_result"
    }
   ],
   "source": [
    "spring_temp_mean"
   ]
  },
  {
   "cell_type": "code",
   "execution_count": 75,
   "metadata": {},
   "outputs": [
    {
     "data": {
      "text/plain": [
       "Apr    78.0\n",
       "Aug    88.0\n",
       "dtype: float64"
      ]
     },
     "execution_count": 75,
     "metadata": {},
     "output_type": "execute_result"
    }
   ],
   "source": [
    "# extract by index value\n",
    "yearly_weather[['Apr','Aug']]"
   ]
  },
  {
   "cell_type": "code",
   "execution_count": 77,
   "metadata": {},
   "outputs": [],
   "source": [
    "# applying methods to a series\n",
    "def celcius(c):\n",
    "    return ((c * 1.9) +32)"
   ]
  },
  {
   "cell_type": "code",
   "execution_count": 79,
   "metadata": {},
   "outputs": [],
   "source": [
    "celsius_converted = yearly_weather.apply(celcius)"
   ]
  },
  {
   "cell_type": "code",
   "execution_count": 81,
   "metadata": {},
   "outputs": [
    {
     "data": {
      "text/plain": [
       "Jsn     95.137\n",
       "Feb    117.500\n",
       "Mar    153.600\n",
       "Apr    180.200\n",
       "May    201.100\n",
       "dtype: float64"
      ]
     },
     "execution_count": 81,
     "metadata": {},
     "output_type": "execute_result"
    }
   ],
   "source": [
    "celsius_converted.head()"
   ]
  },
  {
   "cell_type": "code",
   "execution_count": 82,
   "metadata": {},
   "outputs": [],
   "source": [
    "# mapping objects\n",
    "mapobj = {32:320, 77:770, 88:880}"
   ]
  },
  {
   "cell_type": "code",
   "execution_count": 83,
   "metadata": {},
   "outputs": [
    {
     "data": {
      "text/plain": [
       "Jsn      NaN\n",
       "Feb      NaN\n",
       "Mar      NaN\n",
       "Apr      NaN\n",
       "May      NaN\n",
       "Jun      NaN\n",
       "Jul      NaN\n",
       "Aug    880.0\n",
       "Sep    770.0\n",
       "Oct      NaN\n",
       "Nov      NaN\n",
       "Dec    320.0\n",
       "dtype: float64"
      ]
     },
     "execution_count": 83,
     "metadata": {},
     "output_type": "execute_result"
    }
   ],
   "source": [
    "yearly_weather.map(mapobj)"
   ]
  },
  {
   "cell_type": "code",
   "execution_count": null,
   "metadata": {},
   "outputs": [],
   "source": []
  }
 ],
 "metadata": {
  "kernelspec": {
   "display_name": "Python 3",
   "language": "python",
   "name": "python3"
  },
  "language_info": {
   "codemirror_mode": {
    "name": "ipython",
    "version": 3
   },
   "file_extension": ".py",
   "mimetype": "text/x-python",
   "name": "python",
   "nbconvert_exporter": "python",
   "pygments_lexer": "ipython3",
   "version": "3.7.1"
  }
 },
 "nbformat": 4,
 "nbformat_minor": 2
}
